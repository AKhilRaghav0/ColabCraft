{
  "nbformat": 4,
  "nbformat_minor": 0,
  "metadata": {
    "colab": {
      "provenance": [],
      "include_colab_link": true
    },
    "kernelspec": {
      "name": "python3",
      "display_name": "Python 3"
    }
  },
  "cells": [
    {
      "cell_type": "markdown",
      "metadata": {
        "id": "view-in-github",
        "colab_type": "text"
      },
      "source": [
        "<a href=\"https://colab.research.google.com/github/AKhilRaghav0/ColabCraft/blob/main/ColabCraft.ipynb\" target=\"_parent\"><img src=\"https://colab.research.google.com/assets/colab-badge.svg\" alt=\"Open In Colab\"/></a>"
      ]
    },
    {
      "cell_type": "markdown",
      "metadata": {
        "id": "ZktjRJuZp1h6"
      },
      "source": [
        "\n",
        "**Run a Minecraft Server on Google Colab!**\n",
        "\n",
        "---\n",
        "\n",
        "The Colab file provided is designed to facilitate the hosting of a Minecraft server through the Google Compute Engine. Utilizing the storage capabilities of Google Drive, the world file is stored to enable users to revert to previous states of their game. This setup provides an accessible means of hosting a Minecraft server with a convenient and reliable system for managing game data.\n"
      ]
    },
    {
      "cell_type": "code",
      "metadata": {
        "id": "lqtMoYg0dUmu",
        "colab": {
          "base_uri": "https://localhost:8080/"
        },
        "outputId": "d8cddf5d-6642-4c35-83e2-d974796d2e38"
      },
      "source": [
        "import json\n",
        "import os\n",
        "\n",
        "\n",
        "# Mount Google Drive\n",
        "from google.colab import drive\n",
        "drive.mount('/content/drive')\n",
        "# Change directory to the Minecraft server folder on Google Drive\n",
        "%cd \"/content/drive/My Drive/Minecraft-server\"\n",
        "!ls #list the directory contents (to verify that working directory was changed)\n",
        "\n",
        "# Import config file.\n",
        "if os.path.isfile(\"colabconfig.json\"):\n",
        "  colabconfig = json.load(open(\"colabconfig.json\"))\n",
        "else:\n",
        "  colabconfig = {\"server_type\": \"generic\"} # using default, if config doesn't exists.\n",
        "  json.dump(colabconfig, open(\"colabconfig.json\",'w'))\n",
        "\n",
        "# Server jar names.\n",
        "jar_list = {'paper': 'server.jar', 'fabric': 'fabric-server-launch.jar', 'generic': 'server.jar'}\n",
        "jar_name = jar_list[colabconfig[\"server_type\"]]\n",
        "\n",
        "# Java arguments.\n",
        "if colabconfig[\"server_type\"] == \"paper\":\n",
        "  server_flags = \"-XX:+UseG1GC -XX:+ParallelRefProcEnabled -XX:MaxGCPauseMillis=200 -XX:+UnlockExperimentalVMOptions -XX:+DisableExplicitGC -XX:+AlwaysPreTouch -XX:G1NewSizePercent=30 -XX:G1MaxNewSizePercent=40 -XX:G1HeapRegionSize=8M -XX:G1ReservePercent=20 -XX:G1HeapWastePercent=5 -XX:G1MixedGCCountTarget=4 -XX:InitiatingHeapOccupancyPercent=15 -XX:G1MixedGCLiveThresholdPercent=90 -XX:G1RSetUpdatingPauseTimePercent=5 -XX:SurvivorRatio=32 -XX:+PerfDisableSharedMem -XX:MaxTenuringThreshold=1 -Dusing.aikars.flags=https://mcflags.emc.gs -Daikars.new.flags=true\"\n",
        "else:\n",
        "  server_flags = \"\" # aiker's flags might negatively impact performance on non-paper servers.\n",
        "memory_allocation = \"-Xmx6144M -Xms6144M\"\n",
        "\n",
        "\n",
        "tunnel_service = \"ngrok\"\n",
        "print(\"Proceeding to use\", tunnel_service)       \n",
        "\n",
        "if tunnel_service == \"ngrok\":\n",
        "  !pip -q install pyngrok\n",
        "  from pyngrok import conf, ngrok\n",
        "  \n",
        "  # Ask for the ngrok authtoken\n",
        "  print(\"Get your authtoken from https://dashboard.ngrok.com/auth\")\n",
        "  import getpass\n",
        "  authtoken = getpass.getpass() # input your Ngrok auth token everytime you run the cell or simply replace \"getpass.getpass()\" with your token in \"double quotes\"\n",
        "  ! ngrok authtoken $authtoken # login to ngrok\n",
        "\n",
        "  # Sets default ngrok region\n",
        "  conf.get_default().region = 'in'  # Change this to whichever region you want\n",
        "\n",
        "  # Connect to ngrok\n",
        "  url = ngrok.connect(25565, 'tcp')\n",
        "  print('Your server address is ' + ((str(url).split('\"')[1::2])[0]).replace('tcp://', ''))\n",
        "\n",
        "  print('Starting server...')\n",
        "  !java $memory_allocation $server_flags -jar $jar_name nogui\n"
      ],
      "execution_count": 10,
      "outputs": [
        {
          "output_type": "stream",
          "name": "stdout",
          "text": [
            "Drive already mounted at /content/drive; to attempt to forcibly remount, call drive.mount(\"/content/drive\", force_remount=True).\n",
            "/content/drive/My Drive/Minecraft-server\n",
            "banned-ips.json      config\tpermissions.yml    version_history.json\n",
            "banned-players.json  eula.txt\tplugins\t\t   versions\n",
            "bukkit.yml\t     help.yml\tserver.jar\t   whitelist.json\n",
            "cache\t\t     libraries\tserver.properties  world\n",
            "colabconfig.json     logs\tspigot.yml\t   world_nether\n",
            "commands.yml\t     ops.json\tusercache.json\t   world_the_end\n",
            "Proceeding to use ngrok\n",
            "Get your authtoken from https://dashboard.ngrok.com/auth\n",
            "··········\n",
            "Authtoken saved to configuration file: /root/.ngrok2/ngrok.yml\n",
            "Your server address is 0.tcp.in.ngrok.io:16208\n",
            "Starting server...\n",
            "Starting org.bukkit.craftbukkit.Main\n",
            "*** Warning, you've not updated in a while! ***\n",
            "*** Please download a new build as per instructions from https://papermc.io/downloads ***\n",
            "System Info: Java 17 (OpenJDK 64-Bit Server VM 17.0.6+10-Ubuntu-0ubuntu120.04.1) Host: Linux 5.10.147+ (amd64)\n",
            "Loading libraries, please wait...\n",
            "[04:49:35 INFO]: Building unoptimized datafixer\u001b[m\n",
            "[04:49:39 INFO]: Environment: authHost='https://authserver.mojang.com', accountsHost='https://api.mojang.com', sessionHost='https://sessionserver.mojang.com', servicesHost='https://api.minecraftservices.com', name='PROD'\u001b[m\n",
            "[04:49:42 INFO]: Loaded 7 recipes\u001b[m\n",
            "[04:49:45 INFO]: Starting minecraft server version 1.19.2\u001b[m\n",
            "\u001b[33;1m[04:49:45 WARN]: ****************************\u001b[m\n",
            "\u001b[m\u001b[33;1m[04:49:45 WARN]: YOU ARE RUNNING THIS SERVER AS AN ADMINISTRATIVE OR ROOT USER. THIS IS NOT ADVISED.\u001b[m\n",
            "\u001b[m\u001b[33;1m[04:49:45 WARN]: YOU ARE OPENING YOURSELF UP TO POTENTIAL RISKS WHEN DOING THIS.\u001b[m\n",
            "\u001b[m\u001b[33;1m[04:49:45 WARN]: FOR MORE INFORMATION, SEE https://madelinemiller.dev/blog/root-minecraft-server/\u001b[m\n",
            "\u001b[m\u001b[33;1m[04:49:45 WARN]: ****************************\u001b[m\n",
            "\u001b[m[04:49:45 INFO]: Loading properties\u001b[m\n",
            "[04:49:45 INFO]: This server is running Paper version git-Paper-307 (MC: 1.19.2) (Implementing API version 1.19.2-R0.1-SNAPSHOT) (Git: 476ef25)\u001b[m\n",
            "[04:49:46 INFO]: Server Ping Player Sample Count: 12\u001b[m\n",
            "[04:49:46 INFO]: Using 4 threads for Netty based IO\u001b[m\n",
            "[04:49:46 INFO]: [ChunkTaskScheduler] Chunk system is using 1 I/O threads, 1 worker threads, and gen parallelism of 1 threads\u001b[m\n",
            "[04:49:47 INFO]: Default game type: SURVIVAL\u001b[m\n",
            "[04:49:47 INFO]: Generating keypair\u001b[m\n",
            "\u001b[K[04:49:47 INFO]: Starting Minecraft server on *:25565\u001b[m\n",
            "\u001b[K[04:49:47 INFO]: Using epoll channel type\u001b[m\n",
            "\u001b[K[04:49:47 INFO]: Paper: Using libdeflate (Linux x86_64) compression from Velocity.\u001b[m\n",
            "\u001b[K[04:49:47 INFO]: Paper: Using OpenSSL 1.1.x (Linux x86_64) cipher from Velocity.\u001b[m\n",
            "\u001b[K[04:49:47 INFO]: Server permissions file permissions.yml is empty, ignoring it\u001b[m\n",
            "\u001b[K\u001b[33;1m[04:49:47 WARN]: **** SERVER IS RUNNING IN OFFLINE/INSECURE MODE!\u001b[m\n",
            "\u001b[K\u001b[33;1m[04:49:47 WARN]: The server will make no attempt to authenticate usernames. Beware.\u001b[m\n",
            "\u001b[K\u001b[33;1m[04:49:47 WARN]: While this makes the game possible to play without internet access, it also opens up the ability for hackers to connect with any username they choose.\u001b[m\n",
            "\u001b[K\u001b[33;1m[04:49:47 WARN]: To change this, set \"online-mode\" to \"true\" in the server.properties file.\u001b[m\n",
            "\u001b[K[04:49:47 INFO]: Preparing level \"world\"\u001b[m\n",
            "\u001b[K[04:49:51 INFO]: Preparing start region for dimension minecraft:overworld\u001b[m\n",
            "\u001b[K[04:49:52 INFO]: Time elapsed: 597 ms\u001b[m\n",
            "\u001b[K[04:49:52 INFO]: Preparing start region for dimension minecraft:the_nether\u001b[m\n",
            "\u001b[K[04:49:52 INFO]: Time elapsed: 245 ms\u001b[m\n",
            "\u001b[K[04:49:52 INFO]: Preparing start region for dimension minecraft:the_end\u001b[m\n",
            "\u001b[K[04:49:52 INFO]: Time elapsed: 204 ms\u001b[m\n",
            "\u001b[K[04:49:53 INFO]: Running delayed init tasks\u001b[m\n",
            "\u001b[K[04:49:53 INFO]: Done (7.379s)! For help, type \"help\"\u001b[m\n",
            "\u001b[K[04:49:53 INFO]: Timings Reset\u001b[m\n",
            ">....[04:49:59 INFO]: Stopping server\u001b[m\n",
            "[04:49:59 INFO]: Saving players\u001b[m\n",
            "[04:49:59 INFO]: Saving worlds\u001b[m\n",
            "[04:49:59 INFO]: Saving chunks for level 'ServerLevel[world]'/minecraft:overworld\u001b[m\n",
            "[04:49:59 INFO]: [ChunkHolderManager] Waiting 60s for chunk system to halt for world 'world'\u001b[m\n",
            "[04:49:59 INFO]: [ChunkHolderManager] Halted chunk system for world 'world'\u001b[m\n",
            "[04:49:59 INFO]: [ChunkHolderManager] Saving all chunkholders for world 'world'\u001b[m\n",
            "[04:50:00 INFO]: [ChunkHolderManager] Saved 54 block chunks, 54 entity chunks, 0 poi chunks in world 'world' in 0.95s\u001b[m\n",
            "[04:50:00 INFO]: ThreadedAnvilChunkStorage (world): All chunks are saved\u001b[m\n",
            "[04:50:00 INFO]: Saving chunks for level 'ServerLevel[world_nether]'/minecraft:the_nether\u001b[m\n",
            "[04:50:00 INFO]: [ChunkHolderManager] Waiting 60s for chunk system to halt for world 'world_nether'\u001b[m\n",
            "[04:50:00 INFO]: [ChunkHolderManager] Halted chunk system for world 'world_nether'\u001b[m\n",
            "[04:50:00 INFO]: [ChunkHolderManager] Saving all chunkholders for world 'world_nether'\u001b[m\n",
            "[04:50:01 INFO]: [ChunkHolderManager] Saved 62 block chunks, 62 entity chunks, 0 poi chunks in world 'world_nether' in 0.46s\u001b[m\n",
            "[04:50:01 INFO]: ThreadedAnvilChunkStorage (DIM-1): All chunks are saved\u001b[m\n",
            "[04:50:01 INFO]: Saving chunks for level 'ServerLevel[world_the_end]'/minecraft:the_end\u001b[m\n",
            "[04:50:01 INFO]: [ChunkHolderManager] Waiting 60s for chunk system to halt for world 'world_the_end'\u001b[m\n",
            "[04:50:01 INFO]: [ChunkHolderManager] Halted chunk system for world 'world_the_end'\u001b[m\n",
            "[04:50:01 INFO]: [ChunkHolderManager] Saving all chunkholders for world 'world_the_end'\u001b[m\n",
            "[04:50:01 INFO]: [ChunkHolderManager] Saved 71 block chunks, 71 entity chunks, 0 poi chunks in world 'world_the_end' in 0.24s\u001b[m\n",
            "[04:50:01 INFO]: ThreadedAnvilChunkStorage (DIM1): All chunks are saved\u001b[m\n",
            "[04:50:01 INFO]: ThreadedAnvilChunkStorage: All dimensions are saved\u001b[m\n",
            "[04:50:01 INFO]: Flushing Chunk IO\u001b[m\n",
            "[04:50:01 INFO]: Closing Thread Pool\u001b[m\n",
            "2023-04-10 04:50:04,618 Log4j2-AsyncAppenderEventDispatcher-1-Async WARN Advanced terminal features are not available in this environment\n",
            "[04:50:04 INFO]: Closing Server\n"
          ]
        }
      ]
    },
    {
      "cell_type": "code",
      "source": [
        "!apt-get install -y openjdk-17-jre-headless\n",
        "import os\n",
        "os.environ[\"JAVA_HOME\"] = \"/usr/lib/jvm/java-17-openjdk-amd64\"\n"
      ],
      "metadata": {
        "id": "2FsZUo0aHxM_",
        "colab": {
          "base_uri": "https://localhost:8080/"
        },
        "outputId": "c626784b-e9d0-45ba-ac41-bd50ca06608b"
      },
      "execution_count": 1,
      "outputs": [
        {
          "output_type": "stream",
          "name": "stdout",
          "text": [
            "Reading package lists... Done\n",
            "Building dependency tree       \n",
            "Reading state information... Done\n",
            "Suggested packages:\n",
            "  libnss-mdns fonts-dejavu-extra fonts-ipafont-gothic fonts-ipafont-mincho\n",
            "  fonts-wqy-microhei | fonts-wqy-zenhei fonts-indic\n",
            "The following NEW packages will be installed:\n",
            "  openjdk-17-jre-headless\n",
            "0 upgraded, 1 newly installed, 0 to remove and 24 not upgraded.\n",
            "Need to get 43.6 MB of archives.\n",
            "After this operation, 193 MB of additional disk space will be used.\n",
            "Get:1 http://archive.ubuntu.com/ubuntu focal-updates/universe amd64 openjdk-17-jre-headless amd64 17.0.6+10-0ubuntu1~20.04.1 [43.6 MB]\n",
            "Fetched 43.6 MB in 2s (18.3 MB/s)\n",
            "Selecting previously unselected package openjdk-17-jre-headless:amd64.\n",
            "(Reading database ... 122349 files and directories currently installed.)\n",
            "Preparing to unpack .../openjdk-17-jre-headless_17.0.6+10-0ubuntu1~20.04.1_amd64.deb ...\n",
            "Unpacking openjdk-17-jre-headless:amd64 (17.0.6+10-0ubuntu1~20.04.1) ...\n",
            "Setting up openjdk-17-jre-headless:amd64 (17.0.6+10-0ubuntu1~20.04.1) ...\n",
            "update-alternatives: using /usr/lib/jvm/java-17-openjdk-amd64/bin/java to provide /usr/bin/java (java) in auto mode\n",
            "update-alternatives: using /usr/lib/jvm/java-17-openjdk-amd64/bin/jpackage to provide /usr/bin/jpackage (jpackage) in auto mode\n",
            "update-alternatives: using /usr/lib/jvm/java-17-openjdk-amd64/bin/keytool to provide /usr/bin/keytool (keytool) in auto mode\n",
            "update-alternatives: using /usr/lib/jvm/java-17-openjdk-amd64/bin/rmiregistry to provide /usr/bin/rmiregistry (rmiregistry) in auto mode\n",
            "update-alternatives: using /usr/lib/jvm/java-17-openjdk-amd64/lib/jexec to provide /usr/bin/jexec (jexec) in auto mode\n"
          ]
        }
      ]
    },
    {
      "cell_type": "markdown",
      "metadata": {
        "id": "_4IowSDVUZp8"
      },
      "source": [
        "# Make-a-Server\n",
        "\n",
        "The code below will download a server for you and accept the EULA. After running these scripts, your server will be ready to run."
      ]
    },
    {
      "cell_type": "markdown",
      "metadata": {
        "id": "7wrNfinQOlWV"
      },
      "source": [
        "**Download the Minecraft server**\n",
        "\n",
        "The code below will download Paper, a high-performance fork of the Vanilla server.\n",
        "Other server platforms can be used by placing the server.jar in the Drive folder manually."
      ]
    },
    {
      "cell_type": "code",
      "metadata": {
        "id": "Fy5-YjJMPV3S",
        "colab": {
          "base_uri": "https://localhost:8080/"
        },
        "outputId": "2702b80e-d679-4a58-f72c-5c5ab7f0fcba"
      },
      "source": [
        "# Replace \"1.19.2\" with your desired server version.\n",
        "version = '1.19.2'\n",
        "\n",
        "#Chose server type. Currently available versions: fabric, paper\n",
        "server_type = 'paper'\n",
        "\n",
        "\n",
        "from google.colab import drive\n",
        "import requests\n",
        "import json\n",
        "\n",
        "\n",
        "drive.mount('/content/drive')\n",
        "\n",
        "# Create the directory which will be used for the server\n",
        "! mkdir \"/content/drive/My Drive/Minecraft-server\"\n",
        "%cd \"/content/drive/My Drive/Minecraft-server\"\n",
        "\n",
        "\n",
        "a = requests.get(\"https://papermc.io/api/v2/projects/paper/versions/\" + version)\n",
        "#print(a.json()[\"builds\"][-1])\n",
        "b = requests.get(\"https://papermc.io/api/v2/projects/paper/versions/\" + version + \"/builds/\" + str(a.json()[\"builds\"][-1]))\n",
        "#print(b.json()[\"downloads\"][\"application\"][\"name\"])\n",
        "print(\"https://papermc.io/api/v2/projects/paper/versions/\" + version + \"/builds/\" + str(a.json()[\"builds\"][-1]) + \"/downloads/\" + b.json()[\"downloads\"][\"application\"][\"name\"])\n",
        "\n",
        "paperURL = \"https://papermc.io/api/v2/projects/paper/versions/\" + version + \"/builds/\" + str(a.json()[\"builds\"][-1]) + \"/downloads/\" + b.json()[\"downloads\"][\"application\"][\"name\"]\n",
        "\n",
        "jar_name = {'paper': 'server.jar', 'fabric': 'fabric-installer.jar'}\n",
        "url = {\n",
        "    'paper': (paperURL),\n",
        "    'fabric': 'https://maven.fabricmc.net/net/fabricmc/fabric-installer/0.7.4/fabric-installer-0.7.4.jar'\n",
        "    }\n",
        "\n",
        "print('Downloading to Google Drive...')\n",
        "\n",
        "r = requests.get(url[server_type])\n",
        "\n",
        "if r.status_code is 200:\n",
        "  with open('/content/drive/My Drive/Minecraft-server/' + jar_name[server_type], 'wb') as f:\n",
        "    f.write(r.content)\n",
        "else:\n",
        "  print('Error '+ str(r.status_code) + '! Most likely you entered a unsupported version. Try running the code again if you think that shouldn\\'t have happened.')\n",
        "\n",
        "# Running specific install path.\n",
        "if server_type == 'fabric':\n",
        "  !java -jar fabric-installer.jar server -mcversion $version -downloadMinecraft\n",
        "\n",
        "# Saving config\n",
        "colabconfig = {\"server_type\": server_type}\n",
        "json.dump(colabconfig, open(\"colabconfig.json\",'w'))\n",
        "\n",
        "print('Done!') # todo: Would show even after erroring.\n"
      ],
      "execution_count": null,
      "outputs": [
        {
          "output_type": "stream",
          "name": "stderr",
          "text": [
            "<>:63: SyntaxWarning: \"is\" with a literal. Did you mean \"==\"?\n",
            "<>:63: SyntaxWarning: \"is\" with a literal. Did you mean \"==\"?\n"
          ]
        },
        {
          "output_type": "stream",
          "name": "stdout",
          "text": [
            "Drive already mounted at /content/drive; to attempt to forcibly remount, call drive.mount(\"/content/drive\", force_remount=True).\n",
            "/content/drive/My Drive/Minecraft-server\n",
            "https://papermc.io/api/v2/projects/paper/versions/1.19.2/builds/307/downloads/paper-1.19.2-307.jar\n",
            "Downloading to Google Drive...\n",
            "Done!\n"
          ]
        },
        {
          "output_type": "stream",
          "name": "stderr",
          "text": [
            "<ipython-input-1-f208500e13ef>:63: SyntaxWarning: \"is\" with a literal. Did you mean \"==\"?\n",
            "  if r.status_code is 200:\n"
          ]
        }
      ]
    },
    {
      "cell_type": "markdown",
      "metadata": {
        "id": "vhHYrg6FlbcQ"
      },
      "source": [
        "**Automatically accept the EULA**"
      ]
    },
    {
      "cell_type": "code",
      "metadata": {
        "id": "aefCB6cFlle8",
        "colab": {
          "base_uri": "https://localhost:8080/"
        },
        "outputId": "7b9a3a34-af38-410d-d652-21c9a1ac994c"
      },
      "source": [
        "# Please read the file stored in your server folder before running this command. \n",
        "# Also, go to https://www.minecraft.net/en-us/eula to read Minecraft's EULA.\n",
        "\n",
        "# Make sure Drive is mounted\n",
        "from google.colab import drive\n",
        "drive.mount('/content/drive')\n",
        "!ls\n",
        "\n",
        "%cd \"/content/drive/My Drive/Minecraft-server\"\n",
        "!echo \"eula=true\" >> eula.txt\n",
        "!echo \"online-mode=false\" >> server.properties\n",
        "!cat server.properties"
      ],
      "execution_count": 5,
      "outputs": [
        {
          "output_type": "stream",
          "name": "stdout",
          "text": [
            "Drive already mounted at /content/drive; to attempt to forcibly remount, call drive.mount(\"/content/drive\", force_remount=True).\n",
            "banned-ips.json      config\tpermissions.yml    version_history.json\n",
            "banned-players.json  eula.txt\tplugins\t\t   versions\n",
            "bukkit.yml\t     help.yml\tserver.jar\t   whitelist.json\n",
            "cache\t\t     libraries\tserver.properties  world\n",
            "colabconfig.json     logs\tspigot.yml\t   world_nether\n",
            "commands.yml\t     ops.json\tusercache.json\t   world_the_end\n",
            "/content/drive/My Drive/Minecraft-server\n",
            "#Minecraft server properties\n",
            "#Mon Apr 10 04:15:43 UTC 2023\n",
            "enable-jmx-monitoring=false\n",
            "rcon.port=25575\n",
            "level-seed=\n",
            "gamemode=survival\n",
            "enable-command-block=false\n",
            "enable-query=false\n",
            "generator-settings={}\n",
            "enforce-secure-profile=true\n",
            "level-name=world\n",
            "motd=A Minecraft Server\n",
            "query.port=25565\n",
            "pvp=true\n",
            "generate-structures=true\n",
            "max-chained-neighbor-updates=1000000\n",
            "difficulty=easy\n",
            "network-compression-threshold=256\n",
            "max-tick-time=60000\n",
            "require-resource-pack=false\n",
            "use-native-transport=true\n",
            "max-players=20\n",
            "online-mode=true\n",
            "enable-status=true\n",
            "allow-flight=false\n",
            "broadcast-rcon-to-ops=true\n",
            "view-distance=10\n",
            "server-ip=\n",
            "resource-pack-prompt=\n",
            "allow-nether=true\n",
            "server-port=25565\n",
            "enable-rcon=false\n",
            "sync-chunk-writes=true\n",
            "op-permission-level=4\n",
            "prevent-proxy-connections=false\n",
            "hide-online-players=false\n",
            "resource-pack=\n",
            "entity-broadcast-range-percentage=100\n",
            "simulation-distance=10\n",
            "rcon.password=\n",
            "player-idle-timeout=0\n",
            "debug=false\n",
            "force-gamemode=false\n",
            "rate-limit=0\n",
            "hardcore=false\n",
            "white-list=false\n",
            "broadcast-console-to-ops=true\n",
            "spawn-npcs=true\n",
            "previews-chat=false\n",
            "spawn-animals=true\n",
            "function-permission-level=2\n",
            "level-type=minecraft\\:normal\n",
            "text-filtering-config=\n",
            "spawn-monsters=true\n",
            "enforce-whitelist=false\n",
            "spawn-protection=16\n",
            "resource-pack-sha1=\n",
            "max-world-size=29999984\n",
            "online-mode=false\n",
            "online-mode=false\n"
          ]
        }
      ]
    },
    {
      "cell_type": "code",
      "metadata": {
        "id": "7kR6rsn7jyxt"
      },
      "source": [
        "#Get public address (ngrok)\n",
        "! curl -s http://localhost:4040/api/tunnels | python3 -c \\\n",
        "    \"import sys, json; print(json.load(sys.stdin)['tunnels'][0]['public_url'])\""
      ],
      "execution_count": null,
      "outputs": []
    },
    {
      "cell_type": "code",
      "metadata": {
        "id": "Z2rztsCQk0kh"
      },
      "source": [
        "## For inspecting the minecraft server directory ##\n",
        "%cd \"/content/drive/My Drive/Minecraft-server\"\n",
        "!ls\n"
      ],
      "execution_count": null,
      "outputs": []
    }
  ]
}